{
 "cells": [
  {
   "cell_type": "code",
   "execution_count": 1,
   "id": "e6577cbf",
   "metadata": {},
   "outputs": [
    {
     "name": "stdout",
     "output_type": "stream",
     "text": [
      "Defaulting to user installation because normal site-packages is not writeable\n",
      "Requirement already satisfied: beautifulsoup4 in c:\\users\\sampu\\appdata\\roaming\\python\\python313\\site-packages (4.12.3)\n",
      "Collecting lxml\n",
      "  Downloading lxml-5.4.0-cp313-cp313-win_amd64.whl.metadata (3.6 kB)\n",
      "Requirement already satisfied: soupsieve>1.2 in c:\\users\\sampu\\appdata\\roaming\\python\\python313\\site-packages (from beautifulsoup4) (2.6)\n",
      "Downloading lxml-5.4.0-cp313-cp313-win_amd64.whl (3.8 MB)\n",
      "   ---------------------------------------- 0.0/3.8 MB ? eta -:--:--\n",
      "   ------------- -------------------------- 1.3/3.8 MB 14.6 MB/s eta 0:00:01\n",
      "   ---------------- ----------------------- 1.6/3.8 MB 9.0 MB/s eta 0:00:01\n",
      "   ------------------------------ --------- 2.9/3.8 MB 5.4 MB/s eta 0:00:01\n",
      "   ---------------------------------------- 3.8/3.8 MB 5.3 MB/s eta 0:00:00\n",
      "Installing collected packages: lxml\n",
      "Successfully installed lxml-5.4.0\n",
      "Note: you may need to restart the kernel to use updated packages.\n"
     ]
    },
    {
     "name": "stderr",
     "output_type": "stream",
     "text": [
      "\n",
      "[notice] A new release of pip is available: 25.0.1 -> 25.1.1\n",
      "[notice] To update, run: python.exe -m pip install --upgrade pip\n"
     ]
    }
   ],
   "source": [
    "pip install beautifulsoup4 lxml"
   ]
  },
  {
   "cell_type": "code",
   "execution_count": 4,
   "id": "9e00064e",
   "metadata": {},
   "outputs": [
    {
     "name": "stdout",
     "output_type": "stream",
     "text": [
      "✅ Common failing scripts across all 4 reports:\n",
      "- verifyIndeedXmlFeedByUpdatingJobStatusToOpen\n",
      "- vonqMonthlyToAnnualUpgradeTest\n",
      "- vonqAnnualUpgradeTest\n",
      "- insertTemplateForAddEditNote\n",
      "- verifyAddEditNoteMentionUserEmail\n",
      "- vonqAnnualDowngradeTest\n",
      "- addESRInJobsQuickView\n",
      "- verifyEnrollmentValidationErrorOnSequenceDetailPage\n",
      "- cancelAndResumeVonqSubscription\n",
      "- addCandidateCustomField\n",
      "- visibilityofFieldsOnAdditionalFields\n",
      "- verifyAppointmentTemplate\n",
      "- verifySubmitCandidatesGridTemplate\n",
      "- savePromptsForAIAssistCandidateSummaryTest\n",
      "- allConcentratedStripeScenarioTest\n",
      "- verifyHideAndShowColumns\n",
      "- verifyTextOfCandidateFieldsByChagingAppLanguage\n",
      "- verifyIndeedXmlFeedByUpdatingOpenJobStatus\n",
      "- verifyBlockEmailAndDomainWithAccessLevel\n",
      "- addNewMultipleJob\n",
      "- verifyCustomFieldsInCandidateSummary\n",
      "- addEditDeleteEmailTemplate\n",
      "- vonqMonthlyUpgradeDowngradeTest\n",
      "- verifyAddJobCustomFile\n",
      "- testCollaboratorToDealStandardEmailTemplates\n",
      "- verifyConnectDisconnectDefaultSentEmailAuditLogPageTest\n",
      "- savePromptsForAIAssistJobDescriptionTest\n",
      "- hideShowFieldsVerifyOnRequestUpdatedResumePage\n",
      "- candFilterSearchWithNotAvailableValueForDropdown\n",
      "- verifyEnforced2FAAuditLogPageTest\n",
      "- verifyCustomFieldsKanbanCardForOnlineCandidateList\n",
      "- monthlyNegativeStripeScenarioTest\n"
     ]
    }
   ],
   "source": [
    "from bs4 import BeautifulSoup\n",
    "\n",
    "def extract_failed_tests(report_path):\n",
    "    with open(report_path, 'r', encoding='utf-8') as file:\n",
    "        soup = BeautifulSoup(file, 'lxml')\n",
    "\n",
    "    failed_tests = set()\n",
    "\n",
    "    # Find all test items (each test case)\n",
    "    test_items = soup.find_all(\"li\", class_=\"test-item\")\n",
    "\n",
    "    for item in test_items:\n",
    "        status = item.get(\"status\", \"\").lower()\n",
    "        name_tag = item.find(\"p\", class_=\"name\")\n",
    "        if status == \"fail\" and name_tag:\n",
    "            failed_tests.add(name_tag.text.strip())\n",
    "\n",
    "    return failed_tests\n",
    "\n",
    "def get_common_failing_tests(*report_paths):\n",
    "    failed_sets = [extract_failed_tests(path) for path in report_paths]\n",
    "    common_failures = set.intersection(*failed_sets)\n",
    "    return list(common_failures)\n",
    "\n",
    "# Example usage: replace these paths with your actual report files\n",
    "report1 = 'extent-report1.html'\n",
    "report2 = 'extent-report2.html'\n",
    "report3 = 'extent-report3.html'\n",
    "report4 = 'extent-report4.html'\n",
    "\n",
    "common_failures = get_common_failing_tests(report1, report2, report3, report4)\n",
    "\n",
    "print(\"✅ Common failing scripts across all 4 reports:\")\n",
    "if common_failures:\n",
    "    for script in common_failures:\n",
    "        print(f\"- {script}\")\n",
    "else:\n",
    "    print(\"None — no common failing scripts found.\")\n"
   ]
  }
 ],
 "metadata": {
  "kernelspec": {
   "display_name": "Python 3",
   "language": "python",
   "name": "python3"
  },
  "language_info": {
   "codemirror_mode": {
    "name": "ipython",
    "version": 3
   },
   "file_extension": ".py",
   "mimetype": "text/x-python",
   "name": "python",
   "nbconvert_exporter": "python",
   "pygments_lexer": "ipython3",
   "version": "3.13.1"
  }
 },
 "nbformat": 4,
 "nbformat_minor": 5
}
